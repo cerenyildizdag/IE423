{
  "nbformat": 4,
  "nbformat_minor": 0,
  "metadata": {
    "colab": {
      "provenance": [],
      "authorship_tag": "ABX9TyOJf4YEA1md/tvW3SvW+bF2",
      "include_colab_link": true
    },
    "kernelspec": {
      "name": "python3",
      "display_name": "Python 3"
    },
    "language_info": {
      "name": "python"
    }
  },
  "cells": [
    {
      "cell_type": "markdown",
      "metadata": {
        "id": "view-in-github",
        "colab_type": "text"
      },
      "source": [
        "<a href=\"https://colab.research.google.com/github/cerenyildizdag/IE423/blob/IE423/yildizdagcerentask9.ipynb\" target=\"_parent\"><img src=\"https://colab.research.google.com/assets/colab-badge.svg\" alt=\"Open In Colab\"/></a>"
      ]
    },
    {
      "cell_type": "code",
      "execution_count": 1,
      "metadata": {
        "id": "FModtKIFVfaK",
        "colab": {
          "base_uri": "https://localhost:8080/"
        },
        "outputId": "7bc7963e-55c6-45a9-afde-95d834ae099c"
      },
      "outputs": [
        {
          "output_type": "stream",
          "name": "stdout",
          "text": [
            "Requirement already satisfied: transformers in /usr/local/lib/python3.10/dist-packages (4.42.4)\n",
            "Requirement already satisfied: filelock in /usr/local/lib/python3.10/dist-packages (from transformers) (3.15.4)\n",
            "Requirement already satisfied: huggingface-hub<1.0,>=0.23.2 in /usr/local/lib/python3.10/dist-packages (from transformers) (0.23.5)\n",
            "Requirement already satisfied: numpy<2.0,>=1.17 in /usr/local/lib/python3.10/dist-packages (from transformers) (1.26.4)\n",
            "Requirement already satisfied: packaging>=20.0 in /usr/local/lib/python3.10/dist-packages (from transformers) (24.1)\n",
            "Requirement already satisfied: pyyaml>=5.1 in /usr/local/lib/python3.10/dist-packages (from transformers) (6.0.1)\n",
            "Requirement already satisfied: regex!=2019.12.17 in /usr/local/lib/python3.10/dist-packages (from transformers) (2024.5.15)\n",
            "Requirement already satisfied: requests in /usr/local/lib/python3.10/dist-packages (from transformers) (2.31.0)\n",
            "Requirement already satisfied: safetensors>=0.4.1 in /usr/local/lib/python3.10/dist-packages (from transformers) (0.4.3)\n",
            "Requirement already satisfied: tokenizers<0.20,>=0.19 in /usr/local/lib/python3.10/dist-packages (from transformers) (0.19.1)\n",
            "Requirement already satisfied: tqdm>=4.27 in /usr/local/lib/python3.10/dist-packages (from transformers) (4.66.4)\n",
            "Requirement already satisfied: fsspec>=2023.5.0 in /usr/local/lib/python3.10/dist-packages (from huggingface-hub<1.0,>=0.23.2->transformers) (2024.6.1)\n",
            "Requirement already satisfied: typing-extensions>=3.7.4.3 in /usr/local/lib/python3.10/dist-packages (from huggingface-hub<1.0,>=0.23.2->transformers) (4.12.2)\n",
            "Requirement already satisfied: charset-normalizer<4,>=2 in /usr/local/lib/python3.10/dist-packages (from requests->transformers) (3.3.2)\n",
            "Requirement already satisfied: idna<4,>=2.5 in /usr/local/lib/python3.10/dist-packages (from requests->transformers) (3.7)\n",
            "Requirement already satisfied: urllib3<3,>=1.21.1 in /usr/local/lib/python3.10/dist-packages (from requests->transformers) (2.0.7)\n",
            "Requirement already satisfied: certifi>=2017.4.17 in /usr/local/lib/python3.10/dist-packages (from requests->transformers) (2024.7.4)\n"
          ]
        }
      ],
      "source": [
        "!pip install transformers"
      ]
    },
    {
      "cell_type": "code",
      "source": [
        "# Use pipelines to access pre-trained models\n",
        "from transformers import pipeline"
      ],
      "metadata": {
        "id": "MU1zbpCeVrMz"
      },
      "execution_count": 2,
      "outputs": []
    },
    {
      "cell_type": "code",
      "source": [
        "# Model\n",
        "mdlSnt = pipeline('sentiment-analysis')\n",
        "\n",
        "# Parameters\n",
        "#prmStatement = 'We are happy to go on vacation this spring break.'\n",
        "prmStatement = [\"I love using Google Colab for my projects!\",\n",
        "                 \"This task is quite challenging.\",\n",
        "                 \"I can't wait for the weekend!\"]\n",
        "# Predict\n",
        "mdlSnt(prmStatement)"
      ],
      "metadata": {
        "colab": {
          "base_uri": "https://localhost:8080/"
        },
        "id": "56IH2-05X3wd",
        "outputId": "8a8c4f0c-b920-4847-f1f6-87165fa46cfb"
      },
      "execution_count": 3,
      "outputs": [
        {
          "output_type": "stream",
          "name": "stderr",
          "text": [
            "No model was supplied, defaulted to distilbert/distilbert-base-uncased-finetuned-sst-2-english and revision af0f99b (https://huggingface.co/distilbert/distilbert-base-uncased-finetuned-sst-2-english).\n",
            "Using a pipeline without specifying a model name and revision in production is not recommended.\n",
            "/usr/local/lib/python3.10/dist-packages/huggingface_hub/utils/_token.py:89: UserWarning: \n",
            "The secret `HF_TOKEN` does not exist in your Colab secrets.\n",
            "To authenticate with the Hugging Face Hub, create a token in your settings tab (https://huggingface.co/settings/tokens), set it as secret in your Google Colab and restart your session.\n",
            "You will be able to reuse this secret in all of your notebooks.\n",
            "Please note that authentication is recommended but still optional to access public models or datasets.\n",
            "  warnings.warn(\n"
          ]
        },
        {
          "output_type": "execute_result",
          "data": {
            "text/plain": [
              "[{'label': 'POSITIVE', 'score': 0.9964773058891296},\n",
              " {'label': 'POSITIVE', 'score': 0.9988693594932556},\n",
              " {'label': 'POSITIVE', 'score': 0.9993488192558289}]"
            ]
          },
          "metadata": {},
          "execution_count": 3
        }
      ]
    },
    {
      "source": [
        "mdlSntMultilingual = pipeline('sentiment-analysis', model='nlptown/bert-base-multilingual-uncased-sentiment')"
      ],
      "cell_type": "code",
      "metadata": {
        "id": "0zeY-dhNaaol"
      },
      "execution_count": 4,
      "outputs": []
    },
    {
      "source": [
        "prmStatementsMultilingual = [\"J'aime utiliser Google Colab pour mes projets!\", # French\n",
        "                                 \"Esta tarea es bastante desafiante.\", # Spanish\n",
        "                                 \"Ich kann das Wochenende kaum erwarten!\" # German\n",
        "                                ]"
      ],
      "cell_type": "code",
      "metadata": {
        "id": "VICWLwsQagBr"
      },
      "execution_count": 5,
      "outputs": []
    },
    {
      "source": [
        "mdlSntMultilingual(prmStatementsMultilingual)"
      ],
      "cell_type": "code",
      "metadata": {
        "colab": {
          "base_uri": "https://localhost:8080/"
        },
        "id": "xry0prLAahm5",
        "outputId": "3a7373ea-842c-4a48-a396-0ccfe8aae8c8"
      },
      "execution_count": 6,
      "outputs": [
        {
          "output_type": "execute_result",
          "data": {
            "text/plain": [
              "[{'label': '5 stars', 'score': 0.5033182501792908},\n",
              " {'label': '2 stars', 'score': 0.566073477268219},\n",
              " {'label': '2 stars', 'score': 0.30907219648361206}]"
            ]
          },
          "metadata": {},
          "execution_count": 6
        }
      ]
    },
    {
      "cell_type": "markdown",
      "source": [
        "**Question Answering**"
      ],
      "metadata": {
        "id": "Wt07yLUvapSv"
      }
    },
    {
      "cell_type": "code",
      "source": [
        "# Model\n",
        "mdlQa = pipeline(\"question-answering\")\n"
      ],
      "metadata": {
        "colab": {
          "base_uri": "https://localhost:8080/"
        },
        "id": "rFmnb9T9arS1",
        "outputId": "c2cd1181-2614-43ca-d74d-b825da0964ce"
      },
      "execution_count": 7,
      "outputs": [
        {
          "output_type": "stream",
          "name": "stderr",
          "text": [
            "No model was supplied, defaulted to distilbert/distilbert-base-cased-distilled-squad and revision 626af31 (https://huggingface.co/distilbert/distilbert-base-cased-distilled-squad).\n",
            "Using a pipeline without specifying a model name and revision in production is not recommended.\n"
          ]
        }
      ]
    },
    {
      "cell_type": "code",
      "source": [
        "import pandas as pd"
      ],
      "metadata": {
        "id": "uqlmmhV9bjWw"
      },
      "execution_count": 8,
      "outputs": []
    },
    {
      "cell_type": "code",
      "source": [
        "from google.colab import drive\n",
        "drive.mount('/content/drive')"
      ],
      "metadata": {
        "colab": {
          "base_uri": "https://localhost:8080/"
        },
        "id": "hFYtdqyebbyZ",
        "outputId": "d09499d9-30d2-4bf6-a5bf-93d33d48a480"
      },
      "execution_count": 9,
      "outputs": [
        {
          "output_type": "stream",
          "name": "stdout",
          "text": [
            "Drive already mounted at /content/drive; to attempt to forcibly remount, call drive.mount(\"/content/drive\", force_remount=True).\n"
          ]
        }
      ]
    },
    {
      "cell_type": "code",
      "source": [
        "dfmed=pd.read_csv('/content/drive/MyDrive/Colab Notebooks/medquad.csv')"
      ],
      "metadata": {
        "id": "moemc_Gpa18x"
      },
      "execution_count": 10,
      "outputs": []
    },
    {
      "cell_type": "code",
      "source": [
        "dfmed.head()"
      ],
      "metadata": {
        "colab": {
          "base_uri": "https://localhost:8080/",
          "height": 275
        },
        "id": "nlPqTdk-YuVp",
        "outputId": "2c436938-3fda-4fc6-f0c6-18a23a3cdddd"
      },
      "execution_count": 11,
      "outputs": [
        {
          "output_type": "execute_result",
          "data": {
            "text/plain": [
              "                                 question  \\\n",
              "0                What is (are) Glaucoma ?   \n",
              "1                  What causes Glaucoma ?   \n",
              "2     What are the symptoms of Glaucoma ?   \n",
              "3  What are the treatments for Glaucoma ?   \n",
              "4                What is (are) Glaucoma ?   \n",
              "\n",
              "                                              answer           source  \\\n",
              "0  Glaucoma is a group of diseases that can damag...  NIHSeniorHealth   \n",
              "1  Nearly 2.7 million people have glaucoma, a lea...  NIHSeniorHealth   \n",
              "2  Symptoms of Glaucoma  Glaucoma can develop in ...  NIHSeniorHealth   \n",
              "3  Although open-angle glaucoma cannot be cured, ...  NIHSeniorHealth   \n",
              "4  Glaucoma is a group of diseases that can damag...  NIHSeniorHealth   \n",
              "\n",
              "  focus_area  \n",
              "0   Glaucoma  \n",
              "1   Glaucoma  \n",
              "2   Glaucoma  \n",
              "3   Glaucoma  \n",
              "4   Glaucoma  "
            ],
            "text/html": [
              "\n",
              "  <div id=\"df-b42cb42f-97a1-4e7d-a407-47afec6a39cd\" class=\"colab-df-container\">\n",
              "    <div>\n",
              "<style scoped>\n",
              "    .dataframe tbody tr th:only-of-type {\n",
              "        vertical-align: middle;\n",
              "    }\n",
              "\n",
              "    .dataframe tbody tr th {\n",
              "        vertical-align: top;\n",
              "    }\n",
              "\n",
              "    .dataframe thead th {\n",
              "        text-align: right;\n",
              "    }\n",
              "</style>\n",
              "<table border=\"1\" class=\"dataframe\">\n",
              "  <thead>\n",
              "    <tr style=\"text-align: right;\">\n",
              "      <th></th>\n",
              "      <th>question</th>\n",
              "      <th>answer</th>\n",
              "      <th>source</th>\n",
              "      <th>focus_area</th>\n",
              "    </tr>\n",
              "  </thead>\n",
              "  <tbody>\n",
              "    <tr>\n",
              "      <th>0</th>\n",
              "      <td>What is (are) Glaucoma ?</td>\n",
              "      <td>Glaucoma is a group of diseases that can damag...</td>\n",
              "      <td>NIHSeniorHealth</td>\n",
              "      <td>Glaucoma</td>\n",
              "    </tr>\n",
              "    <tr>\n",
              "      <th>1</th>\n",
              "      <td>What causes Glaucoma ?</td>\n",
              "      <td>Nearly 2.7 million people have glaucoma, a lea...</td>\n",
              "      <td>NIHSeniorHealth</td>\n",
              "      <td>Glaucoma</td>\n",
              "    </tr>\n",
              "    <tr>\n",
              "      <th>2</th>\n",
              "      <td>What are the symptoms of Glaucoma ?</td>\n",
              "      <td>Symptoms of Glaucoma  Glaucoma can develop in ...</td>\n",
              "      <td>NIHSeniorHealth</td>\n",
              "      <td>Glaucoma</td>\n",
              "    </tr>\n",
              "    <tr>\n",
              "      <th>3</th>\n",
              "      <td>What are the treatments for Glaucoma ?</td>\n",
              "      <td>Although open-angle glaucoma cannot be cured, ...</td>\n",
              "      <td>NIHSeniorHealth</td>\n",
              "      <td>Glaucoma</td>\n",
              "    </tr>\n",
              "    <tr>\n",
              "      <th>4</th>\n",
              "      <td>What is (are) Glaucoma ?</td>\n",
              "      <td>Glaucoma is a group of diseases that can damag...</td>\n",
              "      <td>NIHSeniorHealth</td>\n",
              "      <td>Glaucoma</td>\n",
              "    </tr>\n",
              "  </tbody>\n",
              "</table>\n",
              "</div>\n",
              "    <div class=\"colab-df-buttons\">\n",
              "\n",
              "  <div class=\"colab-df-container\">\n",
              "    <button class=\"colab-df-convert\" onclick=\"convertToInteractive('df-b42cb42f-97a1-4e7d-a407-47afec6a39cd')\"\n",
              "            title=\"Convert this dataframe to an interactive table.\"\n",
              "            style=\"display:none;\">\n",
              "\n",
              "  <svg xmlns=\"http://www.w3.org/2000/svg\" height=\"24px\" viewBox=\"0 -960 960 960\">\n",
              "    <path d=\"M120-120v-720h720v720H120Zm60-500h600v-160H180v160Zm220 220h160v-160H400v160Zm0 220h160v-160H400v160ZM180-400h160v-160H180v160Zm440 0h160v-160H620v160ZM180-180h160v-160H180v160Zm440 0h160v-160H620v160Z\"/>\n",
              "  </svg>\n",
              "    </button>\n",
              "\n",
              "  <style>\n",
              "    .colab-df-container {\n",
              "      display:flex;\n",
              "      gap: 12px;\n",
              "    }\n",
              "\n",
              "    .colab-df-convert {\n",
              "      background-color: #E8F0FE;\n",
              "      border: none;\n",
              "      border-radius: 50%;\n",
              "      cursor: pointer;\n",
              "      display: none;\n",
              "      fill: #1967D2;\n",
              "      height: 32px;\n",
              "      padding: 0 0 0 0;\n",
              "      width: 32px;\n",
              "    }\n",
              "\n",
              "    .colab-df-convert:hover {\n",
              "      background-color: #E2EBFA;\n",
              "      box-shadow: 0px 1px 2px rgba(60, 64, 67, 0.3), 0px 1px 3px 1px rgba(60, 64, 67, 0.15);\n",
              "      fill: #174EA6;\n",
              "    }\n",
              "\n",
              "    .colab-df-buttons div {\n",
              "      margin-bottom: 4px;\n",
              "    }\n",
              "\n",
              "    [theme=dark] .colab-df-convert {\n",
              "      background-color: #3B4455;\n",
              "      fill: #D2E3FC;\n",
              "    }\n",
              "\n",
              "    [theme=dark] .colab-df-convert:hover {\n",
              "      background-color: #434B5C;\n",
              "      box-shadow: 0px 1px 3px 1px rgba(0, 0, 0, 0.15);\n",
              "      filter: drop-shadow(0px 1px 2px rgba(0, 0, 0, 0.3));\n",
              "      fill: #FFFFFF;\n",
              "    }\n",
              "  </style>\n",
              "\n",
              "    <script>\n",
              "      const buttonEl =\n",
              "        document.querySelector('#df-b42cb42f-97a1-4e7d-a407-47afec6a39cd button.colab-df-convert');\n",
              "      buttonEl.style.display =\n",
              "        google.colab.kernel.accessAllowed ? 'block' : 'none';\n",
              "\n",
              "      async function convertToInteractive(key) {\n",
              "        const element = document.querySelector('#df-b42cb42f-97a1-4e7d-a407-47afec6a39cd');\n",
              "        const dataTable =\n",
              "          await google.colab.kernel.invokeFunction('convertToInteractive',\n",
              "                                                    [key], {});\n",
              "        if (!dataTable) return;\n",
              "\n",
              "        const docLinkHtml = 'Like what you see? Visit the ' +\n",
              "          '<a target=\"_blank\" href=https://colab.research.google.com/notebooks/data_table.ipynb>data table notebook</a>'\n",
              "          + ' to learn more about interactive tables.';\n",
              "        element.innerHTML = '';\n",
              "        dataTable['output_type'] = 'display_data';\n",
              "        await google.colab.output.renderOutput(dataTable, element);\n",
              "        const docLink = document.createElement('div');\n",
              "        docLink.innerHTML = docLinkHtml;\n",
              "        element.appendChild(docLink);\n",
              "      }\n",
              "    </script>\n",
              "  </div>\n",
              "\n",
              "\n",
              "<div id=\"df-f65e26d9-731b-4ee3-988e-a7274ee4f40a\">\n",
              "  <button class=\"colab-df-quickchart\" onclick=\"quickchart('df-f65e26d9-731b-4ee3-988e-a7274ee4f40a')\"\n",
              "            title=\"Suggest charts\"\n",
              "            style=\"display:none;\">\n",
              "\n",
              "<svg xmlns=\"http://www.w3.org/2000/svg\" height=\"24px\"viewBox=\"0 0 24 24\"\n",
              "     width=\"24px\">\n",
              "    <g>\n",
              "        <path d=\"M19 3H5c-1.1 0-2 .9-2 2v14c0 1.1.9 2 2 2h14c1.1 0 2-.9 2-2V5c0-1.1-.9-2-2-2zM9 17H7v-7h2v7zm4 0h-2V7h2v10zm4 0h-2v-4h2v4z\"/>\n",
              "    </g>\n",
              "</svg>\n",
              "  </button>\n",
              "\n",
              "<style>\n",
              "  .colab-df-quickchart {\n",
              "      --bg-color: #E8F0FE;\n",
              "      --fill-color: #1967D2;\n",
              "      --hover-bg-color: #E2EBFA;\n",
              "      --hover-fill-color: #174EA6;\n",
              "      --disabled-fill-color: #AAA;\n",
              "      --disabled-bg-color: #DDD;\n",
              "  }\n",
              "\n",
              "  [theme=dark] .colab-df-quickchart {\n",
              "      --bg-color: #3B4455;\n",
              "      --fill-color: #D2E3FC;\n",
              "      --hover-bg-color: #434B5C;\n",
              "      --hover-fill-color: #FFFFFF;\n",
              "      --disabled-bg-color: #3B4455;\n",
              "      --disabled-fill-color: #666;\n",
              "  }\n",
              "\n",
              "  .colab-df-quickchart {\n",
              "    background-color: var(--bg-color);\n",
              "    border: none;\n",
              "    border-radius: 50%;\n",
              "    cursor: pointer;\n",
              "    display: none;\n",
              "    fill: var(--fill-color);\n",
              "    height: 32px;\n",
              "    padding: 0;\n",
              "    width: 32px;\n",
              "  }\n",
              "\n",
              "  .colab-df-quickchart:hover {\n",
              "    background-color: var(--hover-bg-color);\n",
              "    box-shadow: 0 1px 2px rgba(60, 64, 67, 0.3), 0 1px 3px 1px rgba(60, 64, 67, 0.15);\n",
              "    fill: var(--button-hover-fill-color);\n",
              "  }\n",
              "\n",
              "  .colab-df-quickchart-complete:disabled,\n",
              "  .colab-df-quickchart-complete:disabled:hover {\n",
              "    background-color: var(--disabled-bg-color);\n",
              "    fill: var(--disabled-fill-color);\n",
              "    box-shadow: none;\n",
              "  }\n",
              "\n",
              "  .colab-df-spinner {\n",
              "    border: 2px solid var(--fill-color);\n",
              "    border-color: transparent;\n",
              "    border-bottom-color: var(--fill-color);\n",
              "    animation:\n",
              "      spin 1s steps(1) infinite;\n",
              "  }\n",
              "\n",
              "  @keyframes spin {\n",
              "    0% {\n",
              "      border-color: transparent;\n",
              "      border-bottom-color: var(--fill-color);\n",
              "      border-left-color: var(--fill-color);\n",
              "    }\n",
              "    20% {\n",
              "      border-color: transparent;\n",
              "      border-left-color: var(--fill-color);\n",
              "      border-top-color: var(--fill-color);\n",
              "    }\n",
              "    30% {\n",
              "      border-color: transparent;\n",
              "      border-left-color: var(--fill-color);\n",
              "      border-top-color: var(--fill-color);\n",
              "      border-right-color: var(--fill-color);\n",
              "    }\n",
              "    40% {\n",
              "      border-color: transparent;\n",
              "      border-right-color: var(--fill-color);\n",
              "      border-top-color: var(--fill-color);\n",
              "    }\n",
              "    60% {\n",
              "      border-color: transparent;\n",
              "      border-right-color: var(--fill-color);\n",
              "    }\n",
              "    80% {\n",
              "      border-color: transparent;\n",
              "      border-right-color: var(--fill-color);\n",
              "      border-bottom-color: var(--fill-color);\n",
              "    }\n",
              "    90% {\n",
              "      border-color: transparent;\n",
              "      border-bottom-color: var(--fill-color);\n",
              "    }\n",
              "  }\n",
              "</style>\n",
              "\n",
              "  <script>\n",
              "    async function quickchart(key) {\n",
              "      const quickchartButtonEl =\n",
              "        document.querySelector('#' + key + ' button');\n",
              "      quickchartButtonEl.disabled = true;  // To prevent multiple clicks.\n",
              "      quickchartButtonEl.classList.add('colab-df-spinner');\n",
              "      try {\n",
              "        const charts = await google.colab.kernel.invokeFunction(\n",
              "            'suggestCharts', [key], {});\n",
              "      } catch (error) {\n",
              "        console.error('Error during call to suggestCharts:', error);\n",
              "      }\n",
              "      quickchartButtonEl.classList.remove('colab-df-spinner');\n",
              "      quickchartButtonEl.classList.add('colab-df-quickchart-complete');\n",
              "    }\n",
              "    (() => {\n",
              "      let quickchartButtonEl =\n",
              "        document.querySelector('#df-f65e26d9-731b-4ee3-988e-a7274ee4f40a button');\n",
              "      quickchartButtonEl.style.display =\n",
              "        google.colab.kernel.accessAllowed ? 'block' : 'none';\n",
              "    })();\n",
              "  </script>\n",
              "</div>\n",
              "\n",
              "    </div>\n",
              "  </div>\n"
            ],
            "application/vnd.google.colaboratory.intrinsic+json": {
              "type": "dataframe",
              "variable_name": "dfmed",
              "summary": "{\n  \"name\": \"dfmed\",\n  \"rows\": 16412,\n  \"fields\": [\n    {\n      \"column\": \"question\",\n      \"properties\": {\n        \"dtype\": \"string\",\n        \"num_unique_values\": 14984,\n        \"samples\": [\n          \"How many people are affected by 8p11 myeloproliferative syndrome ?\",\n          \"What is (are) caudal regression syndrome ?\",\n          \"What is the outlook for Cephalic Disorders ?\"\n        ],\n        \"semantic_type\": \"\",\n        \"description\": \"\"\n      }\n    },\n    {\n      \"column\": \"answer\",\n      \"properties\": {\n        \"dtype\": \"string\",\n        \"num_unique_values\": 15817,\n        \"samples\": [\n          \"The prognosis depends upon the severity of symptoms. Children with early-onset AGS have the highest risk of death. Children with the later-onset form may be left with weakness or stiffness in the peripheral muscles and arms, weak muscles in the trunk of the body, and poor head control. Almost all children with AGS have mild to severe intellectual and physical impairment.\",\n          \"Scientists don't know exactly what causes prostate cancer. They cannot explain why one man gets prostate cancer and another does not. However, they have been able to identify some risk factors that are associated with the disease. A risk factor is anything that increases your chances of getting a disease. Age Age is the most important risk factor for prostate cancer. The disease is extremely rare in men under age 40, but the risk increases greatly with age. More than 60 percent of cases are diagnosed in men over age 65. The average age at the time of diagnosis is 65. Race Race is another major risk factor. In the United States, this disease is much more common in African American men than in any other group of men. It is least common in Asian and American Indian men. Family History A man's risk for developing prostate cancer is higher if his father or brother has had the disease. Other Risk Factors Scientists have wondered whether obesity, lack of exercise, smoking, radiation exposure, might increase risk. But at this time, there is no firm evidence that these factors contribute to an increased risk.\",\n          \"The retina is a layer of tissue in the back of your eye that senses light and sends images to your brain. It provides the sharp, central vision needed for reading, driving, and seeing fine detail. A retinal detachment lifts or pulls the retina from its normal position. It can occur at any age, but it is more common in people over age 40. It affects men more than women and whites more than African Americans. A retinal detachment is also more likely to occur in people who       - Are extremely nearsighted    - Have had a retinal detachment in the other eye    - Have a family history of retinal detachment    - Have had cataract surgery    - Have other eye diseases or disorders    - Have had an eye injury       Symptoms include an increase in the number of floaters, which are little \\\"cobwebs\\\" or specks that float about in your field of vision, and/or light flashes in the eye. It may also seem like there is a \\\"curtain\\\" over your field of vision.    A retinal detachment is a medical emergency. If not promptly treated, it can cause permanent vision loss. If you have any symptoms, see an eye care professional immediately. Treatment includes different types of surgery.    NIH: National Eye Institute\"\n        ],\n        \"semantic_type\": \"\",\n        \"description\": \"\"\n      }\n    },\n    {\n      \"column\": \"source\",\n      \"properties\": {\n        \"dtype\": \"category\",\n        \"num_unique_values\": 9,\n        \"samples\": [\n          \"GHR\",\n          \"CancerGov\",\n          \"NHLBI\"\n        ],\n        \"semantic_type\": \"\",\n        \"description\": \"\"\n      }\n    },\n    {\n      \"column\": \"focus_area\",\n      \"properties\": {\n        \"dtype\": \"category\",\n        \"num_unique_values\": 5126,\n        \"samples\": [\n          \"Adams-Oliver syndrome\",\n          \"Occupational Health\",\n          \"What I need to know about Diverticular Disease\"\n        ],\n        \"semantic_type\": \"\",\n        \"description\": \"\"\n      }\n    }\n  ]\n}"
            }
          },
          "metadata": {},
          "execution_count": 11
        }
      ]
    },
    {
      "cell_type": "markdown",
      "source": [
        "**Example 1**"
      ],
      "metadata": {
        "id": "hoMv8GRqedrU"
      }
    },
    {
      "cell_type": "code",
      "source": [
        "# Parameters\n",
        "f = open(\"/content/drive/MyDrive/Colab Notebooks/medquad.csv\", \"r\")\n",
        "context = f.read()\n",
        "question = \"What is (are) Glaucoma ?\"\n",
        "\n"
      ],
      "metadata": {
        "id": "wbYzAOZgfO1y"
      },
      "execution_count": 12,
      "outputs": []
    },
    {
      "cell_type": "code",
      "source": [
        "result = mdlQa(question=question, context=context)\n",
        "print(result)"
      ],
      "metadata": {
        "id": "MJX2lhDJl5Nk"
      },
      "execution_count": null,
      "outputs": []
    },
    {
      "cell_type": "markdown",
      "source": [
        "The question answering process is taking a long run time which is 49 minutes and it broke the RAM based on the sample because:\n",
        "\n",
        "Large CSV File: CSV file is very large, it takes time for the model to process the entire text and find the answer. So I decided to filter the context. Using the entire CSV file as context is memory-intensive. For instance, I try filtering the DataFrame to only include rows relevant to my question about Glaucoma:"
      ],
      "metadata": {
        "id": "IFPWMH0VkhCi"
      }
    },
    {
      "cell_type": "code",
      "source": [
        "import pandas as pd\n",
        "\n",
        "df = pd.read_csv('/content/drive/MyDrive/Colab Notebooks/medquad.csv')\n",
        "df_filtered = df[df['question'].str.contains('Glaucoma', case=False)]\n",
        "context = df_filtered.to_string()\n",
        "\n",
        "result = mdlQa(question='What is (are) Glaucoma ?', context=context)\n",
        "print(result)"
      ],
      "metadata": {
        "colab": {
          "base_uri": "https://localhost:8080/"
        },
        "id": "oTISVQtskiYU",
        "outputId": "bc57c913-6029-44a5-929a-653705d89657"
      },
      "execution_count": 13,
      "outputs": [
        {
          "output_type": "stream",
          "name": "stdout",
          "text": [
            "{'score': 0.8939401507377625, 'start': 3748, 'end': 3767, 'answer': 'open-angle glaucoma'}\n"
          ]
        }
      ]
    }
  ]
}